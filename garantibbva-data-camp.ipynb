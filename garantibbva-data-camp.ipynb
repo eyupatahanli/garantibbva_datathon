{
 "cells": [
  {
   "cell_type": "code",
   "execution_count": 1,
   "id": "f12c9696",
   "metadata": {
    "_cell_guid": "b1076dfc-b9ad-4769-8c92-a6c4dae69d19",
    "_uuid": "8f2839f25d086af736a60e9eeb907d3b93b6e0e5",
    "execution": {
     "iopub.execute_input": "2023-02-25T23:56:25.738020Z",
     "iopub.status.busy": "2023-02-25T23:56:25.736772Z",
     "iopub.status.idle": "2023-02-25T23:56:25.756570Z",
     "shell.execute_reply": "2023-02-25T23:56:25.755264Z"
    },
    "papermill": {
     "duration": 0.042312,
     "end_time": "2023-02-25T23:56:25.759916",
     "exception": false,
     "start_time": "2023-02-25T23:56:25.717604",
     "status": "completed"
    },
    "tags": []
   },
   "outputs": [
    {
     "name": "stdout",
     "output_type": "stream",
     "text": [
      "/kaggle/input/garanti-bbva-data-camp/work_experiences.csv\n",
      "/kaggle/input/garanti-bbva-data-camp/languages.csv\n",
      "/kaggle/input/garanti-bbva-data-camp/submission.csv\n",
      "/kaggle/input/garanti-bbva-data-camp/test_users.csv\n",
      "/kaggle/input/garanti-bbva-data-camp/skills.csv\n",
      "/kaggle/input/garanti-bbva-data-camp/train_users.csv\n",
      "/kaggle/input/garanti-bbva-data-camp/education.csv\n"
     ]
    }
   ],
   "source": [
    "# This Python 3 environment comes with many helpful analytics libraries installed\n",
    "# It is defined by the kaggle/python Docker image: https://github.com/kaggle/docker-python\n",
    "# For example, here's several helpful packages to load\n",
    "\n",
    "import numpy as np # linear algebra\n",
    "import pandas as pd # data processing, CSV file I/O (e.g. pd.read_csv)\n",
    "\n",
    "# Input data files are available in the read-only \"../input/\" directory\n",
    "# For example, running this (by clicking run or pressing Shift+Enter) will list all files under the input directory\n",
    "\n",
    "import os\n",
    "for dirname, _, filenames in os.walk('/kaggle/input'):\n",
    "    for filename in filenames:\n",
    "        print(os.path.join(dirname, filename))\n",
    "\n",
    "# You can write up to 20GB to the current directory (/kaggle/working/) that gets preserved as output when you create a version using \"Save & Run All\" \n",
    "# You can also write temporary files to /kaggle/temp/, but they won't be saved outside of the current session"
   ]
  },
  {
   "cell_type": "markdown",
   "id": "66ffcaf1",
   "metadata": {
    "papermill": {
     "duration": 0.015893,
     "end_time": "2023-02-25T23:56:25.793866",
     "exception": false,
     "start_time": "2023-02-25T23:56:25.777973",
     "status": "completed"
    },
    "tags": []
   },
   "source": [
    "Kütüphanelerin yüklenmesi ve bazı ayarlar \n"
   ]
  },
  {
   "cell_type": "code",
   "execution_count": 2,
   "id": "6b053321",
   "metadata": {
    "execution": {
     "iopub.execute_input": "2023-02-25T23:56:25.829794Z",
     "iopub.status.busy": "2023-02-25T23:56:25.828948Z",
     "iopub.status.idle": "2023-02-25T23:56:27.673103Z",
     "shell.execute_reply": "2023-02-25T23:56:27.671758Z"
    },
    "papermill": {
     "duration": 1.866462,
     "end_time": "2023-02-25T23:56:27.676662",
     "exception": false,
     "start_time": "2023-02-25T23:56:25.810200",
     "status": "completed"
    },
    "tags": []
   },
   "outputs": [],
   "source": [
    "import pandas as pd \n",
    "import numpy as np\n",
    "from sklearn.preprocessing import LabelEncoder\n",
    "import unicodedata\n",
    "import warnings\n",
    "import re \n",
    "\n",
    "from sklearn.linear_model import LogisticRegression\n",
    "from sklearn.model_selection import GridSearchCV, cross_validate, RandomizedSearchCV, validation_curve\n",
    "from sklearn.model_selection import train_test_split\n",
    "from sklearn.preprocessing import StandardScaler\n",
    "from sklearn.tree import DecisionTreeClassifier\n",
    "from sklearn.model_selection import train_test_split\n",
    "from sklearn.metrics import accuracy_score\n",
    "from sklearn.linear_model import LogisticRegression\n",
    "from sklearn.svm import SVC, LinearSVC\n",
    "from sklearn.ensemble import RandomForestClassifier\n",
    "from sklearn.neighbors import KNeighborsClassifier\n",
    "from sklearn.naive_bayes import GaussianNB\n",
    "from sklearn.linear_model import Perceptron\n",
    "from sklearn.linear_model import SGDClassifier"
   ]
  },
  {
   "cell_type": "code",
   "execution_count": 3,
   "id": "457bea12",
   "metadata": {
    "execution": {
     "iopub.execute_input": "2023-02-25T23:56:27.711862Z",
     "iopub.status.busy": "2023-02-25T23:56:27.711362Z",
     "iopub.status.idle": "2023-02-25T23:56:27.718115Z",
     "shell.execute_reply": "2023-02-25T23:56:27.716724Z"
    },
    "papermill": {
     "duration": 0.027244,
     "end_time": "2023-02-25T23:56:27.720511",
     "exception": false,
     "start_time": "2023-02-25T23:56:27.693267",
     "status": "completed"
    },
    "tags": []
   },
   "outputs": [],
   "source": [
    "warnings.simplefilter(action='ignore', category=Warning)\n",
    "pd.set_option('display.max_columns', 20)\n",
    "pd.set_option('display.max_rows', 30);\n",
    "pd.set_option('display.width', 300)\n",
    "pd.set_option('display.float_format', lambda x: '%.5f' % x)"
   ]
  },
  {
   "cell_type": "code",
   "execution_count": 4,
   "id": "e9f5abd1",
   "metadata": {
    "execution": {
     "iopub.execute_input": "2023-02-25T23:56:27.754636Z",
     "iopub.status.busy": "2023-02-25T23:56:27.753280Z",
     "iopub.status.idle": "2023-02-25T23:56:29.288600Z",
     "shell.execute_reply": "2023-02-25T23:56:29.287143Z"
    },
    "papermill": {
     "duration": 1.555767,
     "end_time": "2023-02-25T23:56:29.291978",
     "exception": false,
     "start_time": "2023-02-25T23:56:27.736211",
     "status": "completed"
    },
    "tags": []
   },
   "outputs": [],
   "source": [
    "#Verilerin okunması \n",
    "work_experiences = pd.read_csv('/kaggle/input/garanti-bbva-data-camp/work_experiences.csv')\n",
    "languages = pd.read_csv('/kaggle/input/garanti-bbva-data-camp/languages.csv')\n",
    "submission = pd.read_csv('/kaggle/input/garanti-bbva-data-camp/submission.csv')\n",
    "test_users = pd.read_csv('/kaggle/input/garanti-bbva-data-camp/test_users.csv')\n",
    "skills = pd.read_csv('/kaggle/input/garanti-bbva-data-camp/skills.csv')\n",
    "train_users = pd.read_csv('/kaggle/input/garanti-bbva-data-camp/train_users.csv')\n",
    "education = pd.read_csv('/kaggle/input/garanti-bbva-data-camp/education.csv')"
   ]
  },
  {
   "cell_type": "code",
   "execution_count": 5,
   "id": "1e9dbece",
   "metadata": {
    "execution": {
     "iopub.execute_input": "2023-02-25T23:56:29.328389Z",
     "iopub.status.busy": "2023-02-25T23:56:29.327922Z",
     "iopub.status.idle": "2023-02-25T23:56:29.354994Z",
     "shell.execute_reply": "2023-02-25T23:56:29.353482Z"
    },
    "papermill": {
     "duration": 0.047201,
     "end_time": "2023-02-25T23:56:29.358134",
     "exception": false,
     "start_time": "2023-02-25T23:56:29.310933",
     "status": "completed"
    },
    "tags": []
   },
   "outputs": [],
   "source": [
    "#ana dataframe lerin indexleri user_id olarak ayarlandı\n",
    "train_users = train_users.set_index(\"user_id\")\n",
    "test_users = test_users.set_index(\"user_id\")\n",
    "submission = submission.set_index(\"user_id\")"
   ]
  },
  {
   "cell_type": "code",
   "execution_count": 6,
   "id": "038a499c",
   "metadata": {
    "execution": {
     "iopub.execute_input": "2023-02-25T23:56:29.391307Z",
     "iopub.status.busy": "2023-02-25T23:56:29.390798Z",
     "iopub.status.idle": "2023-02-25T23:56:29.399443Z",
     "shell.execute_reply": "2023-02-25T23:56:29.398126Z"
    },
    "papermill": {
     "duration": 0.028664,
     "end_time": "2023-02-25T23:56:29.402180",
     "exception": false,
     "start_time": "2023-02-25T23:56:29.373516",
     "status": "completed"
    },
    "tags": []
   },
   "outputs": [],
   "source": [
    "#string ifadelerin daha kolay analiz edilmesi için bir fonksiyon.\n",
    "def turkish_to_english(text):\n",
    "    # Türkçe karakterleri İngilizce karşılıkları ile değiştir\n",
    "    text = re.sub(\"[çÇ]\", \"c\", text)\n",
    "    text = re.sub(\"[ğĞ]\", \"g\", text)\n",
    "    text = re.sub(\"[ıİ]\", \"i\", text)\n",
    "    text = re.sub(\"[öÖ]\", \"o\", text)\n",
    "    text = re.sub(\"[şŞ]\", \"s\", text)\n",
    "    text = re.sub(\"[üÜ]\", \"u\", text)\n",
    "    \n",
    "    # Diğer Unicode karakterlerini kaldır\n",
    "    return ''.join(char for char in unicodedata.normalize('NFKD', text)\n",
    "                   if not unicodedata.combining(char))\n"
   ]
  },
  {
   "cell_type": "markdown",
   "id": "529ab500",
   "metadata": {
    "papermill": {
     "duration": 0.015155,
     "end_time": "2023-02-25T23:56:29.432887",
     "exception": false,
     "start_time": "2023-02-25T23:56:29.417732",
     "status": "completed"
    },
    "tags": []
   },
   "source": [
    "# **users bilgilerine genel bakış ve birleştirme**"
   ]
  },
  {
   "cell_type": "markdown",
   "id": "900a445f",
   "metadata": {
    "papermill": {
     "duration": 0.015178,
     "end_time": "2023-02-25T23:56:29.463471",
     "exception": false,
     "start_time": "2023-02-25T23:56:29.448293",
     "status": "completed"
    },
    "tags": []
   },
   "source": [
    "* **kullanıcılarda yapılacak işlemleri kolaylaştırmak için birleştirme yapıyoruz**"
   ]
  },
  {
   "cell_type": "code",
   "execution_count": 7,
   "id": "5a457629",
   "metadata": {
    "execution": {
     "iopub.execute_input": "2023-02-25T23:56:29.496583Z",
     "iopub.status.busy": "2023-02-25T23:56:29.495695Z",
     "iopub.status.idle": "2023-02-25T23:56:29.531186Z",
     "shell.execute_reply": "2023-02-25T23:56:29.529621Z"
    },
    "papermill": {
     "duration": 0.055327,
     "end_time": "2023-02-25T23:56:29.534182",
     "exception": false,
     "start_time": "2023-02-25T23:56:29.478855",
     "status": "completed"
    },
    "tags": []
   },
   "outputs": [
    {
     "data": {
      "text/html": [
       "<div>\n",
       "<style scoped>\n",
       "    .dataframe tbody tr th:only-of-type {\n",
       "        vertical-align: middle;\n",
       "    }\n",
       "\n",
       "    .dataframe tbody tr th {\n",
       "        vertical-align: top;\n",
       "    }\n",
       "\n",
       "    .dataframe thead th {\n",
       "        text-align: right;\n",
       "    }\n",
       "</style>\n",
       "<table border=\"1\" class=\"dataframe\">\n",
       "  <thead>\n",
       "    <tr style=\"text-align: right;\">\n",
       "      <th></th>\n",
       "      <th>industry</th>\n",
       "      <th>location</th>\n",
       "      <th>moved_after_2019</th>\n",
       "    </tr>\n",
       "    <tr>\n",
       "      <th>user_id</th>\n",
       "      <th></th>\n",
       "      <th></th>\n",
       "      <th></th>\n",
       "    </tr>\n",
       "  </thead>\n",
       "  <tbody>\n",
       "    <tr>\n",
       "      <th>1301</th>\n",
       "      <td>Information Technology and Services</td>\n",
       "      <td>Istanbul, Istanbul, Turkey</td>\n",
       "      <td>1.00000</td>\n",
       "    </tr>\n",
       "    <tr>\n",
       "      <th>6950</th>\n",
       "      <td>Internet</td>\n",
       "      <td>Istanbul, Istanbul, Turkey</td>\n",
       "      <td>0.00000</td>\n",
       "    </tr>\n",
       "    <tr>\n",
       "      <th>4880</th>\n",
       "      <td>Online Media</td>\n",
       "      <td>Turkey</td>\n",
       "      <td>0.00000</td>\n",
       "    </tr>\n",
       "    <tr>\n",
       "      <th>26046</th>\n",
       "      <td>Telecommunications</td>\n",
       "      <td>Istanbul, Istanbul, Turkey</td>\n",
       "      <td>0.00000</td>\n",
       "    </tr>\n",
       "    <tr>\n",
       "      <th>11005</th>\n",
       "      <td>Banking</td>\n",
       "      <td>Istanbul, Turkey</td>\n",
       "      <td>0.00000</td>\n",
       "    </tr>\n",
       "  </tbody>\n",
       "</table>\n",
       "</div>"
      ],
      "text/plain": [
       "                                    industry                    location  moved_after_2019\n",
       "user_id                                                                                   \n",
       "1301     Information Technology and Services  Istanbul, Istanbul, Turkey           1.00000\n",
       "6950                                Internet  Istanbul, Istanbul, Turkey           0.00000\n",
       "4880                            Online Media                      Turkey           0.00000\n",
       "26046                     Telecommunications  Istanbul, Istanbul, Turkey           0.00000\n",
       "11005                                Banking            Istanbul, Turkey           0.00000"
      ]
     },
     "execution_count": 7,
     "metadata": {},
     "output_type": "execute_result"
    }
   ],
   "source": [
    "\n",
    "df = pd.concat([train_users,test_users],axis=0)\n",
    "df.head()"
   ]
  },
  {
   "cell_type": "code",
   "execution_count": 8,
   "id": "6d709fd1",
   "metadata": {
    "execution": {
     "iopub.execute_input": "2023-02-25T23:56:29.567264Z",
     "iopub.status.busy": "2023-02-25T23:56:29.566849Z",
     "iopub.status.idle": "2023-02-25T23:56:30.460174Z",
     "shell.execute_reply": "2023-02-25T23:56:30.458081Z"
    },
    "papermill": {
     "duration": 0.913393,
     "end_time": "2023-02-25T23:56:30.463304",
     "exception": false,
     "start_time": "2023-02-25T23:56:29.549911",
     "status": "completed"
    },
    "tags": []
   },
   "outputs": [],
   "source": [
    "#lokasyon bilgisinin aynı anlama gelse de farklı ifadelerle belirtilmesini düzeltmek için bazı işlemler \n",
    "df[\"location\"]= df[\"location\"].astype('str')\n",
    "df[\"location\"]= df[\"location\"].str.lower()\n",
    "df[\"location\"]= df[\"location\"].apply(turkish_to_english)"
   ]
  },
  {
   "cell_type": "code",
   "execution_count": 9,
   "id": "bfc28227",
   "metadata": {
    "execution": {
     "iopub.execute_input": "2023-02-25T23:56:30.497337Z",
     "iopub.status.busy": "2023-02-25T23:56:30.496884Z",
     "iopub.status.idle": "2023-02-25T23:56:30.512828Z",
     "shell.execute_reply": "2023-02-25T23:56:30.511465Z"
    },
    "papermill": {
     "duration": 0.035968,
     "end_time": "2023-02-25T23:56:30.515404",
     "exception": false,
     "start_time": "2023-02-25T23:56:30.479436",
     "status": "completed"
    },
    "tags": []
   },
   "outputs": [
    {
     "data": {
      "text/plain": [
       "430"
      ]
     },
     "execution_count": 9,
     "metadata": {},
     "output_type": "execute_result"
    }
   ],
   "source": [
    "#'location' değişkeninin kaç tane eşsiz değere sahip olduğuna bakalım (434)\n",
    "df[\"location\"].nunique()\n"
   ]
  },
  {
   "cell_type": "code",
   "execution_count": 10,
   "id": "5da25b5e",
   "metadata": {
    "execution": {
     "iopub.execute_input": "2023-02-25T23:56:30.550280Z",
     "iopub.status.busy": "2023-02-25T23:56:30.548887Z",
     "iopub.status.idle": "2023-02-25T23:56:30.554510Z",
     "shell.execute_reply": "2023-02-25T23:56:30.553579Z"
    },
    "papermill": {
     "duration": 0.025528,
     "end_time": "2023-02-25T23:56:30.557134",
     "exception": false,
     "start_time": "2023-02-25T23:56:30.531606",
     "status": "completed"
    },
    "tags": []
   },
   "outputs": [],
   "source": [
    "#buradaki fazlalık aynı şehri farklı şekillerde ifade etmekten kaynaklanıyor gibi \n",
    "#çözüm için türkiyedeki tüm illeri sadece ismiyle belirtecek şekilde standartlaştırma yapalım "
   ]
  },
  {
   "cell_type": "code",
   "execution_count": 11,
   "id": "31a13b4f",
   "metadata": {
    "execution": {
     "iopub.execute_input": "2023-02-25T23:56:30.590424Z",
     "iopub.status.busy": "2023-02-25T23:56:30.589987Z",
     "iopub.status.idle": "2023-02-25T23:56:30.598711Z",
     "shell.execute_reply": "2023-02-25T23:56:30.597480Z"
    },
    "papermill": {
     "duration": 0.028162,
     "end_time": "2023-02-25T23:56:30.601046",
     "exception": false,
     "start_time": "2023-02-25T23:56:30.572884",
     "status": "completed"
    },
    "tags": []
   },
   "outputs": [],
   "source": [
    "turkish_cities = [\"adana\", \"adiyaman\", \"afyon\", \"agri\", \"amasya\", \"ankara\", \"antalya\", \"artvin\", \"aydin\", \n",
    "                  \"balikesir\", \"bilecik\", \"bingol\", \"bitlis\", \"bolu\", \"burdur\", \"bursa\", \"canakkale\", \"cankiri\", \n",
    "                  \"corum\", \"denizli\", \"diyarbakir\", \"edirne\", \"elazig\", \"erzincan\", \"erzurum\", \"eskisehir\", \"antep\", \n",
    "                  \"giresun\", \"gumushane\", \"hakkari\", \"hatay\", \"isparta\", \"mersin\", \"istanbul\", \"izmir\", \"kars\", \"kastamonu\", \n",
    "                  \"kayseri\", \"kirklareli\", \"kirsehir\", \"kocaeli\", \"konya\", \"kutahya\", \"malatya\", \"manisa\", \"maras\", \n",
    "                  \"mardin\", \"mugla\", \"mus\", \"nevsehir\", \"nigde\", \"ordu\", \"rize\", \"sakarya\", \"samsun\", \"siirt\", \"sinop\", \"sivas\", \n",
    "                  \"tekirdag\", \"tokat\", \"trabzon\", \"tunceli\", \"urfa\", \"usak\", \"van\", \"yozgat\", \"zonguldak\", \"aksaray\", \"bayburt\", \n",
    "                  \"karaman\", \"kirikkale\", \"batman\", \"sirnak\", \"bartin\", \"ardahan\", \"igdir\", \"yalova\", \"karabuk\", \"kilis\", \"osmaniye\", \"duzce\"]"
   ]
  },
  {
   "cell_type": "code",
   "execution_count": 12,
   "id": "a1713062",
   "metadata": {
    "execution": {
     "iopub.execute_input": "2023-02-25T23:56:30.635039Z",
     "iopub.status.busy": "2023-02-25T23:56:30.634131Z",
     "iopub.status.idle": "2023-02-25T23:56:31.981584Z",
     "shell.execute_reply": "2023-02-25T23:56:31.980096Z"
    },
    "papermill": {
     "duration": 1.36763,
     "end_time": "2023-02-25T23:56:31.984551",
     "exception": false,
     "start_time": "2023-02-25T23:56:30.616921",
     "status": "completed"
    },
    "tags": []
   },
   "outputs": [],
   "source": [
    "#şehir ismin göre standartlaştırma işlemi\n",
    "for city in turkish_cities:\n",
    "    df[\"location\"] = df[\"location\"].apply(lambda x: city if city in x else x)\n",
    "    "
   ]
  },
  {
   "cell_type": "code",
   "execution_count": 13,
   "id": "04b720f4",
   "metadata": {
    "execution": {
     "iopub.execute_input": "2023-02-25T23:56:32.019015Z",
     "iopub.status.busy": "2023-02-25T23:56:32.018558Z",
     "iopub.status.idle": "2023-02-25T23:56:32.031074Z",
     "shell.execute_reply": "2023-02-25T23:56:32.029909Z"
    },
    "papermill": {
     "duration": 0.033363,
     "end_time": "2023-02-25T23:56:32.034118",
     "exception": false,
     "start_time": "2023-02-25T23:56:32.000755",
     "status": "completed"
    },
    "tags": []
   },
   "outputs": [
    {
     "data": {
      "text/plain": [
       "122"
      ]
     },
     "execution_count": 13,
     "metadata": {},
     "output_type": "execute_result"
    }
   ],
   "source": [
    "#bu sayede eşsiz değer sayımız oldukça düşecektir. (122)\n",
    "df[\"location\"].nunique()"
   ]
  },
  {
   "cell_type": "code",
   "execution_count": 14,
   "id": "0474d72d",
   "metadata": {
    "execution": {
     "iopub.execute_input": "2023-02-25T23:56:32.068091Z",
     "iopub.status.busy": "2023-02-25T23:56:32.067618Z",
     "iopub.status.idle": "2023-02-25T23:56:32.990543Z",
     "shell.execute_reply": "2023-02-25T23:56:32.989124Z"
    },
    "papermill": {
     "duration": 0.944553,
     "end_time": "2023-02-25T23:56:32.994537",
     "exception": false,
     "start_time": "2023-02-25T23:56:32.049984",
     "status": "completed"
    },
    "tags": []
   },
   "outputs": [],
   "source": [
    "# ;'industry' değişkeni için de küçültle ve unicode işlemlerini yapalım \n",
    "df[\"industry\"]= df[\"industry\"].astype('str')\n",
    "df[\"industry\"]= df[\"industry\"].str.lower()\n",
    "df[\"industry\"]= df[\"industry\"].apply(turkish_to_english)"
   ]
  },
  {
   "cell_type": "code",
   "execution_count": 15,
   "id": "30d29aab",
   "metadata": {
    "execution": {
     "iopub.execute_input": "2023-02-25T23:56:33.029554Z",
     "iopub.status.busy": "2023-02-25T23:56:33.029132Z",
     "iopub.status.idle": "2023-02-25T23:56:33.044070Z",
     "shell.execute_reply": "2023-02-25T23:56:33.042859Z"
    },
    "papermill": {
     "duration": 0.035653,
     "end_time": "2023-02-25T23:56:33.046800",
     "exception": false,
     "start_time": "2023-02-25T23:56:33.011147",
     "status": "completed"
    },
    "tags": []
   },
   "outputs": [
    {
     "data": {
      "text/plain": [
       "142"
      ]
     },
     "execution_count": 15,
     "metadata": {},
     "output_type": "execute_result"
    }
   ],
   "source": [
    "#burada locaion benzeri bir standrtlaştırma zor olacağından ve eşsiz değer sayısı fazla olmadığından bu şekilde bırakmayı tercih ediyorum\n",
    "df[\"industry\"].nunique()"
   ]
  },
  {
   "cell_type": "markdown",
   "id": "3d26f71d",
   "metadata": {
    "papermill": {
     "duration": 0.015529,
     "end_time": "2023-02-25T23:56:33.078355",
     "exception": false,
     "start_time": "2023-02-25T23:56:33.062826",
     "status": "completed"
    },
    "tags": []
   },
   "source": [
    "* work_exp datasına genel bakış ve düzenlemeler "
   ]
  },
  {
   "cell_type": "code",
   "execution_count": 16,
   "id": "234f63aa",
   "metadata": {
    "execution": {
     "iopub.execute_input": "2023-02-25T23:56:33.112119Z",
     "iopub.status.busy": "2023-02-25T23:56:33.111694Z",
     "iopub.status.idle": "2023-02-25T23:56:33.140828Z",
     "shell.execute_reply": "2023-02-25T23:56:33.139731Z"
    },
    "papermill": {
     "duration": 0.049782,
     "end_time": "2023-02-25T23:56:33.143908",
     "exception": false,
     "start_time": "2023-02-25T23:56:33.094126",
     "status": "completed"
    },
    "tags": []
   },
   "outputs": [],
   "source": [
    "#öncelikle kaç iş değiştirdiğini df e ekleyelim\n",
    "df[\"exp_count\"] = work_experiences.groupby('user_id')['company_id'].count()\n",
    "df[\"exp_count\"].fillna(0,inplace=True)"
   ]
  },
  {
   "cell_type": "code",
   "execution_count": 17,
   "id": "6935161f",
   "metadata": {
    "execution": {
     "iopub.execute_input": "2023-02-25T23:56:33.177590Z",
     "iopub.status.busy": "2023-02-25T23:56:33.177157Z",
     "iopub.status.idle": "2023-02-25T23:56:33.351396Z",
     "shell.execute_reply": "2023-02-25T23:56:33.350204Z"
    },
    "papermill": {
     "duration": 0.194515,
     "end_time": "2023-02-25T23:56:33.354206",
     "exception": false,
     "start_time": "2023-02-25T23:56:33.159691",
     "status": "completed"
    },
    "tags": []
   },
   "outputs": [
    {
     "data": {
      "text/html": [
       "<div>\n",
       "<style scoped>\n",
       "    .dataframe tbody tr th:only-of-type {\n",
       "        vertical-align: middle;\n",
       "    }\n",
       "\n",
       "    .dataframe tbody tr th {\n",
       "        vertical-align: top;\n",
       "    }\n",
       "\n",
       "    .dataframe thead th {\n",
       "        text-align: right;\n",
       "    }\n",
       "</style>\n",
       "<table border=\"1\" class=\"dataframe\">\n",
       "  <thead>\n",
       "    <tr style=\"text-align: right;\">\n",
       "      <th></th>\n",
       "      <th>user_id</th>\n",
       "      <th>company_id</th>\n",
       "      <th>location</th>\n",
       "      <th>start_date</th>\n",
       "    </tr>\n",
       "  </thead>\n",
       "  <tbody>\n",
       "    <tr>\n",
       "      <th>0</th>\n",
       "      <td>53442</td>\n",
       "      <td>2651</td>\n",
       "      <td>Istanbul, Turkey</td>\n",
       "      <td>2015-09-01</td>\n",
       "    </tr>\n",
       "    <tr>\n",
       "      <th>1</th>\n",
       "      <td>34558</td>\n",
       "      <td>815</td>\n",
       "      <td>Istanbul, Turkey</td>\n",
       "      <td>2012-10-01</td>\n",
       "    </tr>\n",
       "    <tr>\n",
       "      <th>2</th>\n",
       "      <td>63761</td>\n",
       "      <td>26354</td>\n",
       "      <td>NaN</td>\n",
       "      <td>2000-10-01</td>\n",
       "    </tr>\n",
       "    <tr>\n",
       "      <th>3</th>\n",
       "      <td>10738</td>\n",
       "      <td>89</td>\n",
       "      <td>NaN</td>\n",
       "      <td>2016-10-01</td>\n",
       "    </tr>\n",
       "    <tr>\n",
       "      <th>4</th>\n",
       "      <td>8711</td>\n",
       "      <td>3113</td>\n",
       "      <td>Istanbul, Turkey</td>\n",
       "      <td>2018-01-01</td>\n",
       "    </tr>\n",
       "    <tr>\n",
       "      <th>...</th>\n",
       "      <td>...</td>\n",
       "      <td>...</td>\n",
       "      <td>...</td>\n",
       "      <td>...</td>\n",
       "    </tr>\n",
       "    <tr>\n",
       "      <th>187014</th>\n",
       "      <td>22180</td>\n",
       "      <td>15065</td>\n",
       "      <td>Gebze</td>\n",
       "      <td>2012-05-01</td>\n",
       "    </tr>\n",
       "    <tr>\n",
       "      <th>187015</th>\n",
       "      <td>55822</td>\n",
       "      <td>25076</td>\n",
       "      <td>stajer</td>\n",
       "      <td>2015-06-01</td>\n",
       "    </tr>\n",
       "    <tr>\n",
       "      <th>187016</th>\n",
       "      <td>13750</td>\n",
       "      <td>1607</td>\n",
       "      <td>NaN</td>\n",
       "      <td>2019-01-01</td>\n",
       "    </tr>\n",
       "    <tr>\n",
       "      <th>187017</th>\n",
       "      <td>3679</td>\n",
       "      <td>1414</td>\n",
       "      <td>Ankara, Turkey</td>\n",
       "      <td>2018-07-01</td>\n",
       "    </tr>\n",
       "    <tr>\n",
       "      <th>187018</th>\n",
       "      <td>40056</td>\n",
       "      <td>14626</td>\n",
       "      <td>İstanbul, Türkiye</td>\n",
       "      <td>2013-03-01</td>\n",
       "    </tr>\n",
       "  </tbody>\n",
       "</table>\n",
       "<p>187019 rows × 4 columns</p>\n",
       "</div>"
      ],
      "text/plain": [
       "        user_id  company_id           location start_date\n",
       "0         53442        2651   Istanbul, Turkey 2015-09-01\n",
       "1         34558         815   Istanbul, Turkey 2012-10-01\n",
       "2         63761       26354                NaN 2000-10-01\n",
       "3         10738          89                NaN 2016-10-01\n",
       "4          8711        3113   Istanbul, Turkey 2018-01-01\n",
       "...         ...         ...                ...        ...\n",
       "187014    22180       15065              Gebze 2012-05-01\n",
       "187015    55822       25076             stajer 2015-06-01\n",
       "187016    13750        1607                NaN 2019-01-01\n",
       "187017     3679        1414     Ankara, Turkey 2018-07-01\n",
       "187018    40056       14626  İstanbul, Türkiye 2013-03-01\n",
       "\n",
       "[187019 rows x 4 columns]"
      ]
     },
     "execution_count": 17,
     "metadata": {},
     "output_type": "execute_result"
    }
   ],
   "source": [
    "#işe başlama tarihini datetime olarak work_experiences datasına ekleyelim ekleyelim\n",
    "work_experiences['start_date'] = pd.to_datetime(work_experiences['start_year_month'].astype(str), format='%Y%m')\n",
    "work_experiences.drop([\"start_year_month\"],axis=1)"
   ]
  },
  {
   "cell_type": "code",
   "execution_count": 18,
   "id": "43775118",
   "metadata": {
    "execution": {
     "iopub.execute_input": "2023-02-25T23:56:33.389369Z",
     "iopub.status.busy": "2023-02-25T23:56:33.388922Z",
     "iopub.status.idle": "2023-02-25T23:56:33.425212Z",
     "shell.execute_reply": "2023-02-25T23:56:33.424190Z"
    },
    "papermill": {
     "duration": 0.057209,
     "end_time": "2023-02-25T23:56:33.428132",
     "exception": false,
     "start_time": "2023-02-25T23:56:33.370923",
     "status": "completed"
    },
    "tags": []
   },
   "outputs": [],
   "source": [
    "#her bir kişinin en son başladığı işin tarihini tutalım\n",
    "latest_start_dates = work_experiences.groupby('user_id')['start_date'].max()\n",
    "\n",
    "tarih = pd.datetime(2019,1,1)\n",
    "\n",
    "#burada kişinin en son işinde ne kadardır kaldığı yazıyor.\n",
    "last_job_d = tarih - latest_start_dates\n",
    "df[\"last_job_m\"] = last_job_d / np.timedelta64(1, 'M')"
   ]
  },
  {
   "cell_type": "code",
   "execution_count": 19,
   "id": "c7f3bbfd",
   "metadata": {
    "execution": {
     "iopub.execute_input": "2023-02-25T23:56:33.465160Z",
     "iopub.status.busy": "2023-02-25T23:56:33.464437Z",
     "iopub.status.idle": "2023-02-25T23:56:50.766244Z",
     "shell.execute_reply": "2023-02-25T23:56:50.764788Z"
    },
    "papermill": {
     "duration": 17.323934,
     "end_time": "2023-02-25T23:56:50.769480",
     "exception": false,
     "start_time": "2023-02-25T23:56:33.445546",
     "status": "completed"
    },
    "tags": []
   },
   "outputs": [],
   "source": [
    "#bu fonksiyon ile kişinin ortalama işte kalma süresini hesaplayalım\n",
    "def average_job_tenure(df):\n",
    "  df = df.sort_values(by='start_date')\n",
    "  df['tenure'] = df.groupby('user_id')['start_date'].diff()\n",
    "  df['tenure'] = df['tenure'] / np.timedelta64(1, 'M')\n",
    "  avg_tenure = df.groupby('user_id')['tenure'].mean()\n",
    "  return avg_tenure\n",
    "\n",
    "df[\"average_work\"] = average_job_tenure(work_experiences)\n"
   ]
  },
  {
   "cell_type": "markdown",
   "id": "bcb7ca8d",
   "metadata": {
    "papermill": {
     "duration": 0.016719,
     "end_time": "2023-02-25T23:56:50.803622",
     "exception": false,
     "start_time": "2023-02-25T23:56:50.786903",
     "status": "completed"
    },
    "tags": []
   },
   "source": [
    "* Languages datasına genel bakış ve düzenlemeler "
   ]
  },
  {
   "cell_type": "code",
   "execution_count": 20,
   "id": "344f4b3a",
   "metadata": {
    "execution": {
     "iopub.execute_input": "2023-02-25T23:56:50.837882Z",
     "iopub.status.busy": "2023-02-25T23:56:50.837441Z",
     "iopub.status.idle": "2023-02-25T23:56:51.633335Z",
     "shell.execute_reply": "2023-02-25T23:56:51.631757Z"
    },
    "papermill": {
     "duration": 0.816711,
     "end_time": "2023-02-25T23:56:51.636568",
     "exception": false,
     "start_time": "2023-02-25T23:56:50.819857",
     "status": "completed"
    },
    "tags": []
   },
   "outputs": [],
   "source": [
    "languages['language'] = languages['language'].str.lower()\n",
    "languages['language'] = languages['language'].apply(turkish_to_english)"
   ]
  },
  {
   "cell_type": "code",
   "execution_count": 21,
   "id": "5d0eba43",
   "metadata": {
    "execution": {
     "iopub.execute_input": "2023-02-25T23:56:51.672702Z",
     "iopub.status.busy": "2023-02-25T23:56:51.671524Z",
     "iopub.status.idle": "2023-02-25T23:56:51.714257Z",
     "shell.execute_reply": "2023-02-25T23:56:51.713041Z"
    },
    "papermill": {
     "duration": 0.064164,
     "end_time": "2023-02-25T23:56:51.717315",
     "exception": false,
     "start_time": "2023-02-25T23:56:51.653151",
     "status": "completed"
    },
    "tags": []
   },
   "outputs": [
    {
     "data": {
      "text/plain": [
       "37165"
      ]
     },
     "execution_count": 21,
     "metadata": {},
     "output_type": "execute_result"
    }
   ],
   "source": [
    "languages['language'] = languages['language'].apply(lambda x: 'ing'\n",
    "                                                    if 'english' in x\n",
    "                                                    or 'ing' in x\n",
    "                                                    or 'englisch'in x\n",
    "                                                    or 'engilish'in x\n",
    "                                                    or 'ingilizce'in x\n",
    "                                                    or 'ielts'in x\n",
    "                                                    else x)\n",
    "languages['language'].value_counts()['ing']"
   ]
  },
  {
   "cell_type": "code",
   "execution_count": 22,
   "id": "03ac6e06",
   "metadata": {
    "execution": {
     "iopub.execute_input": "2023-02-25T23:56:51.753736Z",
     "iopub.status.busy": "2023-02-25T23:56:51.753274Z",
     "iopub.status.idle": "2023-02-25T23:56:51.797273Z",
     "shell.execute_reply": "2023-02-25T23:56:51.796116Z"
    },
    "papermill": {
     "duration": 0.065511,
     "end_time": "2023-02-25T23:56:51.799985",
     "exception": false,
     "start_time": "2023-02-25T23:56:51.734474",
     "status": "completed"
    },
    "tags": []
   },
   "outputs": [
    {
     "data": {
      "text/plain": [
       "22623"
      ]
     },
     "execution_count": 22,
     "metadata": {},
     "output_type": "execute_result"
    }
   ],
   "source": [
    "languages['language'] = languages['language'].apply(lambda x: 'tr'\n",
    "                                                    if 'turkish' in x\n",
    "                                                    or 'turkısh' in x\n",
    "                                                    or 'türkçe' in x\n",
    "                                                    or 'turk' in x\n",
    "                                                    or 'turkce' in x\n",
    "                                                    or 'turkisch' in x\n",
    "                                                    or 'turksih' in x\n",
    "                                                    else x)\n",
    "languages['language'].value_counts()['tr']"
   ]
  },
  {
   "cell_type": "code",
   "execution_count": 23,
   "id": "0a08b291",
   "metadata": {
    "execution": {
     "iopub.execute_input": "2023-02-25T23:56:51.835550Z",
     "iopub.status.busy": "2023-02-25T23:56:51.834891Z",
     "iopub.status.idle": "2023-02-25T23:56:51.872201Z",
     "shell.execute_reply": "2023-02-25T23:56:51.870760Z"
    },
    "papermill": {
     "duration": 0.058793,
     "end_time": "2023-02-25T23:56:51.875251",
     "exception": false,
     "start_time": "2023-02-25T23:56:51.816458",
     "status": "completed"
    },
    "tags": []
   },
   "outputs": [
    {
     "data": {
      "text/plain": [
       "7188"
      ]
     },
     "execution_count": 23,
     "metadata": {},
     "output_type": "execute_result"
    }
   ],
   "source": [
    "languages['language'] = languages['language'].apply(lambda x: 'ger'\n",
    "                                                    if 'german' in x\n",
    "                                                    or 'alman' in x\n",
    "                                                    or 'deutsch'in x\n",
    "                                                    else x)\n",
    "languages['language'].value_counts()['ger']"
   ]
  },
  {
   "cell_type": "code",
   "execution_count": 24,
   "id": "6e571f0d",
   "metadata": {
    "execution": {
     "iopub.execute_input": "2023-02-25T23:56:51.911129Z",
     "iopub.status.busy": "2023-02-25T23:56:51.910722Z",
     "iopub.status.idle": "2023-02-25T23:56:51.945742Z",
     "shell.execute_reply": "2023-02-25T23:56:51.944712Z"
    },
    "papermill": {
     "duration": 0.055515,
     "end_time": "2023-02-25T23:56:51.948141",
     "exception": false,
     "start_time": "2023-02-25T23:56:51.892626",
     "status": "completed"
    },
    "tags": []
   },
   "outputs": [
    {
     "data": {
      "text/plain": [
       "442"
      ]
     },
     "execution_count": 24,
     "metadata": {},
     "output_type": "execute_result"
    }
   ],
   "source": [
    "languages['language'] = languages['language'].apply(lambda x: 'jp'\n",
    "                                                    if 'japanese' in x\n",
    "                                                    or 'japonca' in x\n",
    "                                                    else x)\n",
    "languages['language'].value_counts()['jp']"
   ]
  },
  {
   "cell_type": "code",
   "execution_count": 25,
   "id": "d44b689a",
   "metadata": {
    "execution": {
     "iopub.execute_input": "2023-02-25T23:56:51.984157Z",
     "iopub.status.busy": "2023-02-25T23:56:51.982865Z",
     "iopub.status.idle": "2023-02-25T23:56:52.025523Z",
     "shell.execute_reply": "2023-02-25T23:56:52.024209Z"
    },
    "papermill": {
     "duration": 0.063506,
     "end_time": "2023-02-25T23:56:52.028365",
     "exception": false,
     "start_time": "2023-02-25T23:56:51.964859",
     "status": "completed"
    },
    "tags": []
   },
   "outputs": [
    {
     "data": {
      "text/plain": [
       "1752"
      ]
     },
     "execution_count": 25,
     "metadata": {},
     "output_type": "execute_result"
    }
   ],
   "source": [
    "languages['language'] = languages['language'].apply(lambda x: 'fr'\n",
    "                                                    if 'fransızca' in x\n",
    "                                                    or 'french' in x\n",
    "                                                    or 'francais' in x\n",
    "                                                    or 'fransizca' in x\n",
    "                                                    or 'france' in x\n",
    "                                                    else x)\n",
    "languages['language'].value_counts()['fr']"
   ]
  },
  {
   "cell_type": "code",
   "execution_count": null,
   "id": "4149c32b",
   "metadata": {
    "papermill": {
     "duration": 0.01663,
     "end_time": "2023-02-25T23:56:52.061851",
     "exception": false,
     "start_time": "2023-02-25T23:56:52.045221",
     "status": "completed"
    },
    "tags": []
   },
   "outputs": [],
   "source": []
  },
  {
   "cell_type": "code",
   "execution_count": 26,
   "id": "8e345442",
   "metadata": {
    "execution": {
     "iopub.execute_input": "2023-02-25T23:56:52.098016Z",
     "iopub.status.busy": "2023-02-25T23:56:52.096820Z",
     "iopub.status.idle": "2023-02-25T23:56:52.112924Z",
     "shell.execute_reply": "2023-02-25T23:56:52.111575Z"
    },
    "papermill": {
     "duration": 0.037208,
     "end_time": "2023-02-25T23:56:52.115838",
     "exception": false,
     "start_time": "2023-02-25T23:56:52.078630",
     "status": "completed"
    },
    "tags": []
   },
   "outputs": [],
   "source": [
    "#bildiği dilin seviyesini sayısal hale dönüştürme.\n",
    "proficiency_encod = {\n",
    "    'elementary': 1,\n",
    "    'limited_working': 2,\n",
    "    'professional_working': 3,\n",
    "    'full_professional': 4,\n",
    "    'native_or_bilingual': 5\n",
    "}\n",
    "\n",
    "languages['proficiency'] = languages['proficiency'].map(proficiency_encod)"
   ]
  },
  {
   "cell_type": "code",
   "execution_count": 27,
   "id": "d835fe81",
   "metadata": {
    "execution": {
     "iopub.execute_input": "2023-02-25T23:56:52.153200Z",
     "iopub.status.busy": "2023-02-25T23:56:52.151978Z",
     "iopub.status.idle": "2023-02-25T23:56:52.167612Z",
     "shell.execute_reply": "2023-02-25T23:56:52.166353Z"
    },
    "papermill": {
     "duration": 0.036827,
     "end_time": "2023-02-25T23:56:52.170165",
     "exception": false,
     "start_time": "2023-02-25T23:56:52.133338",
     "status": "completed"
    },
    "tags": []
   },
   "outputs": [
    {
     "data": {
      "text/plain": [
       "ing                       37165\n",
       "tr                        22623\n",
       "ger                        7188\n",
       "fr                         1752\n",
       "ispanyolca                  860\n",
       "                          ...  \n",
       "oracle data integrator        1\n",
       "slovakca                      1\n",
       "pushto                        1\n",
       "indonesian                    1\n",
       "grek                          1\n",
       "Name: language, Length: 273, dtype: int64"
      ]
     },
     "execution_count": 27,
     "metadata": {},
     "output_type": "execute_result"
    }
   ],
   "source": [
    "languages[\"language\"].value_counts()"
   ]
  },
  {
   "cell_type": "code",
   "execution_count": 28,
   "id": "be647a85",
   "metadata": {
    "execution": {
     "iopub.execute_input": "2023-02-25T23:56:52.206985Z",
     "iopub.status.busy": "2023-02-25T23:56:52.205413Z",
     "iopub.status.idle": "2023-02-25T23:56:52.228217Z",
     "shell.execute_reply": "2023-02-25T23:56:52.226941Z"
    },
    "papermill": {
     "duration": 0.044822,
     "end_time": "2023-02-25T23:56:52.231831",
     "exception": false,
     "start_time": "2023-02-25T23:56:52.187009",
     "status": "completed"
    },
    "tags": []
   },
   "outputs": [],
   "source": [
    "\n",
    "languages_summary = languages.loc[languages['language'] == 'ing'].groupby('user_id').agg({'proficiency': 'max'})\n"
   ]
  },
  {
   "cell_type": "code",
   "execution_count": 29,
   "id": "a1c465b8",
   "metadata": {
    "execution": {
     "iopub.execute_input": "2023-02-25T23:56:52.269498Z",
     "iopub.status.busy": "2023-02-25T23:56:52.269024Z",
     "iopub.status.idle": "2023-02-25T23:56:52.302264Z",
     "shell.execute_reply": "2023-02-25T23:56:52.301021Z"
    },
    "papermill": {
     "duration": 0.054769,
     "end_time": "2023-02-25T23:56:52.305208",
     "exception": false,
     "start_time": "2023-02-25T23:56:52.250439",
     "status": "completed"
    },
    "tags": []
   },
   "outputs": [],
   "source": [
    "df = df.merge(languages_summary, on='user_id', how='left')"
   ]
  },
  {
   "cell_type": "code",
   "execution_count": 30,
   "id": "9f1b3aad",
   "metadata": {
    "execution": {
     "iopub.execute_input": "2023-02-25T23:56:52.341602Z",
     "iopub.status.busy": "2023-02-25T23:56:52.341117Z",
     "iopub.status.idle": "2023-02-25T23:56:52.386561Z",
     "shell.execute_reply": "2023-02-25T23:56:52.384713Z"
    },
    "papermill": {
     "duration": 0.066912,
     "end_time": "2023-02-25T23:56:52.389635",
     "exception": false,
     "start_time": "2023-02-25T23:56:52.322723",
     "status": "completed"
    },
    "tags": []
   },
   "outputs": [],
   "source": [
    "#diğer dillerin skorunun toplamayı tercih ettik\n",
    "proficiency = languages[languages['language'] != 'ing'].groupby('user_id').agg({'proficiency': 'sum'})\n",
    "df = df.merge(proficiency, on='user_id', how='left')\n"
   ]
  },
  {
   "cell_type": "markdown",
   "id": "caf950ea",
   "metadata": {
    "papermill": {
     "duration": 0.016387,
     "end_time": "2023-02-25T23:56:52.422928",
     "exception": false,
     "start_time": "2023-02-25T23:56:52.406541",
     "status": "completed"
    },
    "tags": []
   },
   "source": [
    "* Skılls datasına genel bakış ve düzenlemeler "
   ]
  },
  {
   "cell_type": "code",
   "execution_count": 31,
   "id": "ab528721",
   "metadata": {
    "execution": {
     "iopub.execute_input": "2023-02-25T23:56:52.458823Z",
     "iopub.status.busy": "2023-02-25T23:56:52.458320Z",
     "iopub.status.idle": "2023-02-25T23:57:08.661395Z",
     "shell.execute_reply": "2023-02-25T23:57:08.659874Z"
    },
    "papermill": {
     "duration": 16.225012,
     "end_time": "2023-02-25T23:57:08.664629",
     "exception": false,
     "start_time": "2023-02-25T23:56:52.439617",
     "status": "completed"
    },
    "tags": []
   },
   "outputs": [],
   "source": [
    "skills['skill'] = skills['skill'].str.lower()\n",
    "skills['skill'] = skills['skill'].apply(turkish_to_english)"
   ]
  },
  {
   "cell_type": "code",
   "execution_count": 32,
   "id": "13977bd6",
   "metadata": {
    "execution": {
     "iopub.execute_input": "2023-02-25T23:57:08.701859Z",
     "iopub.status.busy": "2023-02-25T23:57:08.701337Z",
     "iopub.status.idle": "2023-02-25T23:57:08.719295Z",
     "shell.execute_reply": "2023-02-25T23:57:08.717974Z"
    },
    "papermill": {
     "duration": 0.040131,
     "end_time": "2023-02-25T23:57:08.722399",
     "exception": false,
     "start_time": "2023-02-25T23:57:08.682268",
     "status": "completed"
    },
    "tags": []
   },
   "outputs": [],
   "source": [
    "#belirlediğimiz anahtar kelimelere göre bazı yetenekleri gruplandıralım\n",
    "soft_skills = ['problem', 'yarat', 'yenilik', 'dusunme', 'lider', ' yonetim',\n",
    "               'ekip', 'iletisim', 'dogru', 'organizasyon', 'plan', 'takim','cozme',\n",
    "               'egitim\t','arastırma', 'analiz','analysis','management','collaboration','yetenek',\n",
    "               'research','dusun','strateji','ekip','presentation','yonetim','team','leadership','analitik','analytical',\n",
    "               'speaking','communication']\n",
    "\n",
    "data_skills = ['data','veri','makine','machine','ai','keras','sql','nlp','hadoop','artificial intelligence','oracle','apache','kafka',\n",
    "              'mongodb','redis','deep','opencv','goruntu','image','subversion']\n",
    "\n",
    "office = ['office','microsoft','powerpoint','excel']\n",
    "\n",
    "languages = ['english','almanca','turkce','ispanyolca','ingilizce','german']\n",
    "\n",
    "web = ['web','network','rest','html','jquery','tcp','bootstrap','angular',\n",
    "      'html', 'css', 'javascript', 'php','ajax', 'react', 'vue.js', 'node.js', 'express.js', 'laravel', 'django',\n",
    "       'flask', 'ruby','json', 'soap','graphql','oauth', 'jwt','asp.net','wordpress','xml','selenium','seo','jsp',\n",
    "      'tomcat','firebase','nodejs']\n",
    "\n",
    "cloud= ['aws','bulut','cloud','azure','openstack','saas', 'paas']\n",
    "\n",
    "p_languages = ['javascript','php','c++','c#','python','css','kotlin','java','typescript','ruby', 'swift','perl','scala'\n",
    "               ,'sql', 'html','objective-c']\n",
    "\n",
    "programming = ['programming','software','develop','algorit','algorithms','gelistirme','oop','oriented','git','linux'\n",
    "               ,'programlama','maven','docker','linq']\n",
    "\n",
    "mobil = ['kotlin','iphone','ios','mobile','app','swift','android','flutter','mobil','firebase']\n",
    "\n",
    "engineering =['matlab','engineer','solid',\"autocad\",\"ansys\",\"labview\", \"catia\", \"creo\", \"comsol\", \"revit\",'muhendis']\n",
    "\n",
    "tree_d = ['blender','3d','3b','unity']\n",
    "\n",
    "adobe = ['adobe','photoshop','premier']\n",
    "\n",
    "ide = ['vscode','pycharm','sublime','eclipse','netbeans','intellij','xcode','jupyter','visual']\n",
    "\n",
    "framework = ['framework','django','flask','pyramid','tornado','cherryPy',\n",
    "            'react','angularjs','vue.js','ember.js','backbone.js',\n",
    "            'spring','hibernate','gwt','struts',\n",
    "             'sinatra','hanami','grape','padrino','laravel','.net','silverlight']\n",
    "\n",
    "dev_methods = ['agile','scrum','kanban','lean','extreme programming','jira','uml','design patterns','tfs','jenkins','mvc']\n",
    "\n",
    "business = ['crm','business','musteri','marketing','ar-ge','commerce','ticaret','customer']\n",
    "\n",
    "cyber_sec = ['security','siber','cyber']\n",
    "\n",
    "virtual_tec = ['docker','vmware','sanal','kubernetes','hyper-v','virtualbox']\n",
    "\n",
    "os_ = ['linux','unix','bash','ubuntu','windows']"
   ]
  },
  {
   "cell_type": "code",
   "execution_count": 33,
   "id": "8d3cbfd7",
   "metadata": {
    "execution": {
     "iopub.execute_input": "2023-02-25T23:57:08.759301Z",
     "iopub.status.busy": "2023-02-25T23:57:08.758821Z",
     "iopub.status.idle": "2023-02-25T23:57:08.765795Z",
     "shell.execute_reply": "2023-02-25T23:57:08.764421Z"
    },
    "papermill": {
     "duration": 0.0291,
     "end_time": "2023-02-25T23:57:08.768484",
     "exception": false,
     "start_time": "2023-02-25T23:57:08.739384",
     "status": "completed"
    },
    "tags": []
   },
   "outputs": [],
   "source": [
    "#tüm gruplandırmayı tek seferde yapabilmek için bu grupları sözlük yapısı ile aldım\n",
    "clusters = {'adobe':adobe,'tree_d':tree_d,'engineering':engineering,\n",
    "            'mobil':mobil,'p_languages':p_languages,\n",
    "            'cloud':cloud\n",
    "            ,'web':web\n",
    "            ,'office':office\n",
    "            ,'data_skills':data_skills\n",
    "            ,'soft_skills':soft_skills\n",
    "           ,'programming':programming\n",
    "           ,'languages':languages\n",
    "           ,'ide':ide\n",
    "           ,'framework':framework\n",
    "           ,'dev_methods':dev_methods,\n",
    "           'business':business\n",
    "           ,'cyber_sec':cyber_sec\n",
    "           ,'virtual_tec':virtual_tec\n",
    "           ,'os_':os_}"
   ]
  },
  {
   "cell_type": "code",
   "execution_count": 34,
   "id": "7a45936d",
   "metadata": {
    "execution": {
     "iopub.execute_input": "2023-02-25T23:57:08.806636Z",
     "iopub.status.busy": "2023-02-25T23:57:08.805568Z",
     "iopub.status.idle": "2023-02-25T23:58:01.589882Z",
     "shell.execute_reply": "2023-02-25T23:58:01.588083Z"
    },
    "papermill": {
     "duration": 52.806823,
     "end_time": "2023-02-25T23:58:01.593110",
     "exception": false,
     "start_time": "2023-02-25T23:57:08.786287",
     "status": "completed"
    },
    "tags": []
   },
   "outputs": [],
   "source": [
    "#gruplandırmayı yapacak fonksiyon\n",
    "def skills_groping (df,cat_name,cat_list):\n",
    "    df[cat_name] = skills['skill'].apply(lambda x: 1 if any(skill in x for skill in cat_list) else 0)\n",
    "    return df\n",
    "\n",
    "for name,cluster in clusters.items():\n",
    "    skills = skills_groping(skills,str(name)+'_check',cluster)"
   ]
  },
  {
   "cell_type": "code",
   "execution_count": 35,
   "id": "9a2c9274",
   "metadata": {
    "execution": {
     "iopub.execute_input": "2023-02-25T23:58:01.631246Z",
     "iopub.status.busy": "2023-02-25T23:58:01.630799Z",
     "iopub.status.idle": "2023-02-25T23:58:01.846555Z",
     "shell.execute_reply": "2023-02-25T23:58:01.845168Z"
    },
    "papermill": {
     "duration": 0.238248,
     "end_time": "2023-02-25T23:58:01.849460",
     "exception": false,
     "start_time": "2023-02-25T23:58:01.611212",
     "status": "completed"
    },
    "tags": []
   },
   "outputs": [],
   "source": [
    "#içinde 'C' ve 'R' geçen bütün becerileri p_languages olarak değerlendirmek istemediğimiz için 'C' ve 'R' diline özel bunu yazmayı tercih ettik.\n",
    "skills.loc[skills['skill'] == 'c', 'p_languages_check'] = 1\n",
    "skills.loc[skills['skill'] == 'r', 'data_skills_check'] = 1"
   ]
  },
  {
   "cell_type": "code",
   "execution_count": 36,
   "id": "5adbbd76",
   "metadata": {
    "execution": {
     "iopub.execute_input": "2023-02-25T23:58:01.885547Z",
     "iopub.status.busy": "2023-02-25T23:58:01.885112Z",
     "iopub.status.idle": "2023-02-25T23:58:03.118716Z",
     "shell.execute_reply": "2023-02-25T23:58:03.117253Z"
    },
    "papermill": {
     "duration": 1.255304,
     "end_time": "2023-02-25T23:58:03.121666",
     "exception": false,
     "start_time": "2023-02-25T23:58:01.866362",
     "status": "completed"
    },
    "tags": []
   },
   "outputs": [],
   "source": [
    "#kişinin ilgili beceri grubundaki toplam beceri sayısını df e ekledik\n",
    "columns = list(skills.columns)\n",
    "for col in columns[2:]:\n",
    "    df[str(col)+'_sum'] = skills.groupby('user_id').agg({col: 'sum'})\n",
    "    df[str(col)+'_sum'].fillna(0,inplace=True)"
   ]
  },
  {
   "cell_type": "code",
   "execution_count": 37,
   "id": "aee9d123",
   "metadata": {
    "execution": {
     "iopub.execute_input": "2023-02-25T23:58:03.157366Z",
     "iopub.status.busy": "2023-02-25T23:58:03.156926Z",
     "iopub.status.idle": "2023-02-25T23:58:03.768495Z",
     "shell.execute_reply": "2023-02-25T23:58:03.767034Z"
    },
    "papermill": {
     "duration": 0.633274,
     "end_time": "2023-02-25T23:58:03.771859",
     "exception": false,
     "start_time": "2023-02-25T23:58:03.138585",
     "status": "completed"
    },
    "tags": []
   },
   "outputs": [],
   "source": [
    "#belirtilen toplam yetenek sayısını ekleyelim belirtmeyenlere 0 girelim.\n",
    "df[\"skills_count\"] = skills.groupby('user_id')['skill'].nunique()\n",
    "df[\"skills_count\"].fillna(0,inplace=True)"
   ]
  },
  {
   "cell_type": "markdown",
   "id": "a484bfbb",
   "metadata": {
    "papermill": {
     "duration": 0.01684,
     "end_time": "2023-02-25T23:58:03.806768",
     "exception": false,
     "start_time": "2023-02-25T23:58:03.789928",
     "status": "completed"
    },
    "tags": []
   },
   "source": []
  },
  {
   "cell_type": "markdown",
   "id": "d91eb0c9",
   "metadata": {
    "papermill": {
     "duration": 0.016803,
     "end_time": "2023-02-25T23:58:03.840405",
     "exception": false,
     "start_time": "2023-02-25T23:58:03.823602",
     "status": "completed"
    },
    "tags": []
   },
   "source": [
    "* Education datasına genel bakış ve düzenlemeler "
   ]
  },
  {
   "cell_type": "code",
   "execution_count": 38,
   "id": "b3fbc5b7",
   "metadata": {
    "execution": {
     "iopub.execute_input": "2023-02-25T23:58:03.876742Z",
     "iopub.status.busy": "2023-02-25T23:58:03.875466Z",
     "iopub.status.idle": "2023-02-25T23:58:09.913136Z",
     "shell.execute_reply": "2023-02-25T23:58:09.911624Z"
    },
    "papermill": {
     "duration": 6.058858,
     "end_time": "2023-02-25T23:58:09.916207",
     "exception": false,
     "start_time": "2023-02-25T23:58:03.857349",
     "status": "completed"
    },
    "tags": []
   },
   "outputs": [],
   "source": [
    "education = education.applymap(lambda x: x.lower() if type(x) == str else x)\n",
    "education = education.applymap(lambda x: turkish_to_english(x) if isinstance(x, str) else x)\n",
    "education['degree'] = education['degree'].astype(\"str\")"
   ]
  },
  {
   "cell_type": "code",
   "execution_count": 39,
   "id": "89d156c0",
   "metadata": {
    "execution": {
     "iopub.execute_input": "2023-02-25T23:58:09.952252Z",
     "iopub.status.busy": "2023-02-25T23:58:09.951823Z",
     "iopub.status.idle": "2023-02-25T23:58:09.968795Z",
     "shell.execute_reply": "2023-02-25T23:58:09.967349Z"
    },
    "papermill": {
     "duration": 0.038623,
     "end_time": "2023-02-25T23:58:09.971824",
     "exception": false,
     "start_time": "2023-02-25T23:58:09.933201",
     "status": "completed"
    },
    "tags": []
   },
   "outputs": [],
   "source": [
    "#fazla eksik değer var silindi\n",
    "education.drop([\"start_year_month\",'end_year_month'],axis=1,inplace=True)\n"
   ]
  },
  {
   "cell_type": "code",
   "execution_count": 40,
   "id": "2df6e929",
   "metadata": {
    "execution": {
     "iopub.execute_input": "2023-02-25T23:58:10.008914Z",
     "iopub.status.busy": "2023-02-25T23:58:10.008460Z",
     "iopub.status.idle": "2023-02-25T23:58:10.175146Z",
     "shell.execute_reply": "2023-02-25T23:58:10.173799Z"
    },
    "papermill": {
     "duration": 0.189083,
     "end_time": "2023-02-25T23:58:10.178550",
     "exception": false,
     "start_time": "2023-02-25T23:58:09.989467",
     "status": "completed"
    },
    "tags": []
   },
   "outputs": [],
   "source": [
    "#universite ya da lise olmasını kontrol etme \n",
    "education['uni_check'] = education['school_name'].apply(lambda x: 1 if \"universite\" in x or 'university' in x or \"enstitu\" in x or \"institute\" in x\n",
    "                                                    else 0)\n",
    "education['h_s_check'] = education['school_name'].apply(lambda x: 1 if \"lise\" in x or 'high' in x or \"kolej\" in x or \"college\" in x\n",
    "                                                    else 0)"
   ]
  },
  {
   "cell_type": "code",
   "execution_count": 41,
   "id": "74e11eec",
   "metadata": {
    "execution": {
     "iopub.execute_input": "2023-02-25T23:58:10.215362Z",
     "iopub.status.busy": "2023-02-25T23:58:10.214930Z",
     "iopub.status.idle": "2023-02-25T23:58:10.237438Z",
     "shell.execute_reply": "2023-02-25T23:58:10.235894Z"
    },
    "papermill": {
     "duration": 0.045021,
     "end_time": "2023-02-25T23:58:10.240516",
     "exception": false,
     "start_time": "2023-02-25T23:58:10.195495",
     "status": "completed"
    },
    "tags": []
   },
   "outputs": [],
   "source": [
    "#toplam gittiği üniversite sayısını aldık.\n",
    "df[\"uni_sum\"] = education.groupby('user_id').agg({\"uni_check\": 'sum'})\n",
    "df[\"uni_sum\"].fillna(0,inplace=True)"
   ]
  },
  {
   "cell_type": "markdown",
   "id": "2fdd9931",
   "metadata": {
    "papermill": {
     "duration": 0.021103,
     "end_time": "2023-02-25T23:58:10.278889",
     "exception": false,
     "start_time": "2023-02-25T23:58:10.257786",
     "status": "completed"
    },
    "tags": []
   },
   "source": [
    "field_of_study"
   ]
  },
  {
   "cell_type": "code",
   "execution_count": 42,
   "id": "f67989c4",
   "metadata": {
    "execution": {
     "iopub.execute_input": "2023-02-25T23:58:10.329048Z",
     "iopub.status.busy": "2023-02-25T23:58:10.328369Z",
     "iopub.status.idle": "2023-02-25T23:58:12.329469Z",
     "shell.execute_reply": "2023-02-25T23:58:12.328222Z"
    },
    "papermill": {
     "duration": 2.030858,
     "end_time": "2023-02-25T23:58:12.332495",
     "exception": false,
     "start_time": "2023-02-25T23:58:10.301637",
     "status": "completed"
    },
    "tags": []
   },
   "outputs": [],
   "source": [
    "education[\"fields_of_study\"]= education[\"fields_of_study\"].astype('str')\n",
    "education[\"fields_of_study\"]= education[\"fields_of_study\"].str.lower()\n",
    "education[\"fields_of_study\"]= education[\"fields_of_study\"].apply(turkish_to_english)"
   ]
  },
  {
   "cell_type": "code",
   "execution_count": 43,
   "id": "ece1a1f6",
   "metadata": {
    "execution": {
     "iopub.execute_input": "2023-02-25T23:58:12.369341Z",
     "iopub.status.busy": "2023-02-25T23:58:12.367963Z",
     "iopub.status.idle": "2023-02-25T23:58:12.402810Z",
     "shell.execute_reply": "2023-02-25T23:58:12.401281Z"
    },
    "papermill": {
     "duration": 0.056471,
     "end_time": "2023-02-25T23:58:12.405973",
     "exception": false,
     "start_time": "2023-02-25T23:58:12.349502",
     "status": "completed"
    },
    "tags": []
   },
   "outputs": [
    {
     "data": {
      "text/plain": [
       "nan                                           19838\n",
       "bilgisayar muhendisligi                       14748\n",
       "computer engineering                          12746\n",
       "elektrik ve elektronik muhendisligi            3564\n",
       "electrical and electronics engineering         3224\n",
       "                                              ...  \n",
       "computer engineer                               352\n",
       "electronics and communications engineering      351\n",
       "engineering management                          339\n",
       "civil engineering                               336\n",
       "fizik                                           323\n",
       "Name: fields_of_study, Length: 50, dtype: int64"
      ]
     },
     "execution_count": 43,
     "metadata": {},
     "output_type": "execute_result"
    }
   ],
   "source": [
    "education[\"fields_of_study\"].value_counts().iloc[:50]"
   ]
  },
  {
   "cell_type": "markdown",
   "id": "2c75e3fb",
   "metadata": {
    "papermill": {
     "duration": 0.017175,
     "end_time": "2023-02-25T23:58:12.440474",
     "exception": false,
     "start_time": "2023-02-25T23:58:12.423299",
     "status": "completed"
    },
    "tags": []
   },
   "source": [
    "-*-*-*-*-*-*-*-*-*-*Encoding -*-*-*-*-*-*-*-*-"
   ]
  },
  {
   "cell_type": "code",
   "execution_count": 44,
   "id": "ee77b68e",
   "metadata": {
    "execution": {
     "iopub.execute_input": "2023-02-25T23:58:12.478696Z",
     "iopub.status.busy": "2023-02-25T23:58:12.477077Z",
     "iopub.status.idle": "2023-02-25T23:58:12.483800Z",
     "shell.execute_reply": "2023-02-25T23:58:12.482296Z"
    },
    "papermill": {
     "duration": 0.028832,
     "end_time": "2023-02-25T23:58:12.486779",
     "exception": false,
     "start_time": "2023-02-25T23:58:12.457947",
     "status": "completed"
    },
    "tags": []
   },
   "outputs": [],
   "source": [
    "columns_last = list(df.columns)"
   ]
  },
  {
   "cell_type": "code",
   "execution_count": 45,
   "id": "c18ee106",
   "metadata": {
    "execution": {
     "iopub.execute_input": "2023-02-25T23:58:12.523854Z",
     "iopub.status.busy": "2023-02-25T23:58:12.522797Z",
     "iopub.status.idle": "2023-02-25T23:58:12.539668Z",
     "shell.execute_reply": "2023-02-25T23:58:12.538162Z"
    },
    "papermill": {
     "duration": 0.038549,
     "end_time": "2023-02-25T23:58:12.542748",
     "exception": false,
     "start_time": "2023-02-25T23:58:12.504199",
     "status": "completed"
    },
    "tags": []
   },
   "outputs": [],
   "source": [
    "#sayısal değişkenlerin NaN değerlerini 0 ile dolduralım \n",
    "for col in columns_last[3:]:\n",
    "    df[col].fillna(0,inplace=True)"
   ]
  },
  {
   "cell_type": "code",
   "execution_count": 46,
   "id": "fed9ab73",
   "metadata": {
    "execution": {
     "iopub.execute_input": "2023-02-25T23:58:12.579110Z",
     "iopub.status.busy": "2023-02-25T23:58:12.578682Z",
     "iopub.status.idle": "2023-02-25T23:58:12.600035Z",
     "shell.execute_reply": "2023-02-25T23:58:12.598625Z"
    },
    "papermill": {
     "duration": 0.04267,
     "end_time": "2023-02-25T23:58:12.602788",
     "exception": false,
     "start_time": "2023-02-25T23:58:12.560118",
     "status": "completed"
    },
    "tags": []
   },
   "outputs": [
    {
     "data": {
      "text/plain": [
       "142"
      ]
     },
     "execution_count": 46,
     "metadata": {},
     "output_type": "execute_result"
    }
   ],
   "source": [
    "#kategorik değişkenlerin çok fazla eşsiz değerleri olduğundan, model karmaşıklığını arttırmamak için Rare encoding uygulayacaız \n",
    "df['location'].nunique() \n",
    "df['industry'].nunique()"
   ]
  },
  {
   "cell_type": "code",
   "execution_count": 47,
   "id": "64d88c88",
   "metadata": {
    "execution": {
     "iopub.execute_input": "2023-02-25T23:58:12.640943Z",
     "iopub.status.busy": "2023-02-25T23:58:12.639782Z",
     "iopub.status.idle": "2023-02-25T23:58:12.648364Z",
     "shell.execute_reply": "2023-02-25T23:58:12.647243Z"
    },
    "papermill": {
     "duration": 0.031315,
     "end_time": "2023-02-25T23:58:12.651289",
     "exception": false,
     "start_time": "2023-02-25T23:58:12.619974",
     "status": "completed"
    },
    "tags": []
   },
   "outputs": [],
   "source": [
    "def rare_encoder(dataframe, rare_perc, cat_cols):\n",
    "    rare_columns = [col for col in cat_cols if (dataframe[col].value_counts() / len(dataframe) < 0.01).sum() > 1]\n",
    "\n",
    "    for col in rare_columns:\n",
    "        tmp = dataframe[col].value_counts() / len(dataframe)\n",
    "        rare_labels = tmp[tmp < rare_perc].index\n",
    "        dataframe[col] = np.where(dataframe[col].isin(rare_labels), 'Rare', dataframe[col])\n",
    "\n",
    "    return dataframe"
   ]
  },
  {
   "cell_type": "code",
   "execution_count": 48,
   "id": "42fd619b",
   "metadata": {
    "execution": {
     "iopub.execute_input": "2023-02-25T23:58:12.690838Z",
     "iopub.status.busy": "2023-02-25T23:58:12.689880Z",
     "iopub.status.idle": "2023-02-25T23:58:12.753770Z",
     "shell.execute_reply": "2023-02-25T23:58:12.752121Z"
    },
    "papermill": {
     "duration": 0.086993,
     "end_time": "2023-02-25T23:58:12.756450",
     "exception": false,
     "start_time": "2023-02-25T23:58:12.669457",
     "status": "completed"
    },
    "tags": []
   },
   "outputs": [
    {
     "data": {
      "text/plain": [
       "51"
      ]
     },
     "execution_count": 48,
     "metadata": {},
     "output_type": "execute_result"
    }
   ],
   "source": [
    "\n",
    "df = rare_encoder(df,0.0015,['location'])\n",
    "df['location'].nunique()  #16\n",
    "df = rare_encoder(df,0.0015,['industry'])\n",
    "df['industry'].nunique() #51"
   ]
  },
  {
   "cell_type": "code",
   "execution_count": 49,
   "id": "047ce9d0",
   "metadata": {
    "execution": {
     "iopub.execute_input": "2023-02-25T23:58:12.794074Z",
     "iopub.status.busy": "2023-02-25T23:58:12.793114Z",
     "iopub.status.idle": "2023-02-25T23:58:12.842559Z",
     "shell.execute_reply": "2023-02-25T23:58:12.841256Z"
    },
    "papermill": {
     "duration": 0.071834,
     "end_time": "2023-02-25T23:58:12.845654",
     "exception": false,
     "start_time": "2023-02-25T23:58:12.773820",
     "status": "completed"
    },
    "tags": []
   },
   "outputs": [],
   "source": [
    "#encoding yapmak için kategorik değişkenleri alalım \n",
    "cat_cols =[\"location\",\"industry\"]\n",
    "df_encoded = pd.get_dummies(df[cat_cols], columns=cat_cols,drop_first=True)"
   ]
  },
  {
   "cell_type": "code",
   "execution_count": 50,
   "id": "5d93675e",
   "metadata": {
    "execution": {
     "iopub.execute_input": "2023-02-25T23:58:12.882050Z",
     "iopub.status.busy": "2023-02-25T23:58:12.881582Z",
     "iopub.status.idle": "2023-02-25T23:58:12.894551Z",
     "shell.execute_reply": "2023-02-25T23:58:12.893340Z"
    },
    "papermill": {
     "duration": 0.034683,
     "end_time": "2023-02-25T23:58:12.897550",
     "exception": false,
     "start_time": "2023-02-25T23:58:12.862867",
     "status": "completed"
    },
    "tags": []
   },
   "outputs": [],
   "source": [
    "#veriye ekleyelim \n",
    "df = pd.concat([df, df_encoded], axis=1, join='outer')"
   ]
  },
  {
   "cell_type": "markdown",
   "id": "7a6d7fb8",
   "metadata": {
    "papermill": {
     "duration": 0.016769,
     "end_time": "2023-02-25T23:58:12.931483",
     "exception": false,
     "start_time": "2023-02-25T23:58:12.914714",
     "status": "completed"
    },
    "tags": []
   },
   "source": [
    "Model kurulması"
   ]
  },
  {
   "cell_type": "markdown",
   "id": "3133d04f",
   "metadata": {
    "papermill": {
     "duration": 0.016829,
     "end_time": "2023-02-25T23:58:12.965465",
     "exception": false,
     "start_time": "2023-02-25T23:58:12.948636",
     "status": "completed"
    },
    "tags": []
   },
   "source": [
    "seçeceğimiz modele karar vermek için, bize verilen eğitim verisini kendi içinde eğitim ve test diye ayırıp bir kaç model kuralım"
   ]
  },
  {
   "cell_type": "code",
   "execution_count": 51,
   "id": "6d080e08",
   "metadata": {
    "execution": {
     "iopub.execute_input": "2023-02-25T23:58:13.001847Z",
     "iopub.status.busy": "2023-02-25T23:58:13.001372Z",
     "iopub.status.idle": "2023-02-25T23:58:13.056049Z",
     "shell.execute_reply": "2023-02-25T23:58:13.054699Z"
    },
    "papermill": {
     "duration": 0.076322,
     "end_time": "2023-02-25T23:58:13.059005",
     "exception": false,
     "start_time": "2023-02-25T23:58:12.982683",
     "status": "completed"
    },
    "tags": []
   },
   "outputs": [],
   "source": [
    "train = df.loc[train_users.index, df.columns]\n",
    "test = df.loc[test_users.index, df.columns]\n",
    "drop_list = [\"industry\",\"location\",\"moved_after_2019\"]\n",
    "X_t = train.drop(drop_list,axis = 1)\n",
    "y_t = train['moved_after_2019']"
   ]
  },
  {
   "cell_type": "code",
   "execution_count": 52,
   "id": "27484a32",
   "metadata": {
    "execution": {
     "iopub.execute_input": "2023-02-25T23:58:13.096577Z",
     "iopub.status.busy": "2023-02-25T23:58:13.096156Z",
     "iopub.status.idle": "2023-02-25T23:58:13.105586Z",
     "shell.execute_reply": "2023-02-25T23:58:13.104366Z"
    },
    "papermill": {
     "duration": 0.031275,
     "end_time": "2023-02-25T23:58:13.107986",
     "exception": false,
     "start_time": "2023-02-25T23:58:13.076711",
     "status": "completed"
    },
    "tags": []
   },
   "outputs": [
    {
     "data": {
      "text/plain": [
       "\"def all_model():\\n    #veriyi test ve train olarak bölme \\n    X_train, X_test, Y_train, Y_test = train_test_split(X_t, y_t, test_size=0.25, random_state=46)\\n    # LOjistik Regresyon\\n\\n    logreg = LogisticRegression()\\n    logreg.fit(X_train, Y_train)\\n    acc_log = round(logreg.score(X_test, Y_test) * 100, 2)\\n    acc_log\\n\\n    # Support Vector Machines\\n    svc = SVC()\\n    svc.fit(X_train, Y_train)\\n    Y_pred = svc.predict(X_test)\\n    acc_svc = round(svc.score(X_test, Y_test) * 100, 2)\\n    acc_svc\\n\\n    #KNN \\n    knn = KNeighborsClassifier(n_neighbors=3)\\n    knn.fit(X_train, Y_train)\\n    Y_pred = knn.predict(X_test)\\n    acc_knn = round(knn.score(X_test, Y_test) * 100, 2)\\n    acc_knn\\n\\n    # Decision Tree\\n    decision_tree = DecisionTreeClassifier()\\n    decision_tree.fit(X_train, Y_train)\\n    Y_pred = decision_tree.predict(X_test)\\n    acc_decision_tree = round(decision_tree.score(X_test, Y_test) * 100, 2)\\n    acc_decision_tree\\n\\n    # Random Forest\\n    random_forest = RandomForestClassifier(n_estimators=200, n_jobs=-1)\\n    random_forest.fit(X_train, Y_train)\\n    Y_pred = random_forest.predict(X_test)\\n    random_forest.score(X_train, Y_train)\\n    acc_random_forest = round(random_forest.score(X_test, Y_test) * 100, 2)\\n    acc_random_forest\\n\\n    models = pd.DataFrame({\\n        'Model': ['Support Vector Machines', 'KNN', 'Logistic Regression',\\n                  'Random Forest', 'Decision Tree'],\\n        'Score': [acc_svc, acc_knn, acc_log,\\n                  acc_random_forest,acc_decision_tree]})\\n    return models\\n    \""
      ]
     },
     "execution_count": 52,
     "metadata": {},
     "output_type": "execute_result"
    }
   ],
   "source": [
    "\"\"\"def all_model():\n",
    "    #veriyi test ve train olarak bölme \n",
    "    X_train, X_test, Y_train, Y_test = train_test_split(X_t, y_t, test_size=0.25, random_state=46)\n",
    "    # LOjistik Regresyon\n",
    "\n",
    "    logreg = LogisticRegression()\n",
    "    logreg.fit(X_train, Y_train)\n",
    "    acc_log = round(logreg.score(X_test, Y_test) * 100, 2)\n",
    "    acc_log\n",
    "\n",
    "    # Support Vector Machines\n",
    "    svc = SVC()\n",
    "    svc.fit(X_train, Y_train)\n",
    "    Y_pred = svc.predict(X_test)\n",
    "    acc_svc = round(svc.score(X_test, Y_test) * 100, 2)\n",
    "    acc_svc\n",
    "\n",
    "    #KNN \n",
    "    knn = KNeighborsClassifier(n_neighbors=3)\n",
    "    knn.fit(X_train, Y_train)\n",
    "    Y_pred = knn.predict(X_test)\n",
    "    acc_knn = round(knn.score(X_test, Y_test) * 100, 2)\n",
    "    acc_knn\n",
    "\n",
    "    # Decision Tree\n",
    "    decision_tree = DecisionTreeClassifier()\n",
    "    decision_tree.fit(X_train, Y_train)\n",
    "    Y_pred = decision_tree.predict(X_test)\n",
    "    acc_decision_tree = round(decision_tree.score(X_test, Y_test) * 100, 2)\n",
    "    acc_decision_tree\n",
    "\n",
    "    # Random Forest\n",
    "    random_forest = RandomForestClassifier(n_estimators=200, n_jobs=-1)\n",
    "    random_forest.fit(X_train, Y_train)\n",
    "    Y_pred = random_forest.predict(X_test)\n",
    "    random_forest.score(X_train, Y_train)\n",
    "    acc_random_forest = round(random_forest.score(X_test, Y_test) * 100, 2)\n",
    "    acc_random_forest\n",
    "\n",
    "    models = pd.DataFrame({\n",
    "        'Model': ['Support Vector Machines', 'KNN', 'Logistic Regression',\n",
    "                  'Random Forest', 'Decision Tree'],\n",
    "        'Score': [acc_svc, acc_knn, acc_log,\n",
    "                  acc_random_forest,acc_decision_tree]})\n",
    "    return models\n",
    "    \"\"\""
   ]
  },
  {
   "cell_type": "code",
   "execution_count": 53,
   "id": "ce8b4318",
   "metadata": {
    "execution": {
     "iopub.execute_input": "2023-02-25T23:58:13.145333Z",
     "iopub.status.busy": "2023-02-25T23:58:13.144553Z",
     "iopub.status.idle": "2023-02-25T23:58:13.164301Z",
     "shell.execute_reply": "2023-02-25T23:58:13.162927Z"
    },
    "papermill": {
     "duration": 0.042214,
     "end_time": "2023-02-25T23:58:13.167543",
     "exception": false,
     "start_time": "2023-02-25T23:58:13.125329",
     "status": "completed"
    },
    "tags": []
   },
   "outputs": [],
   "source": [
    "X, y = train.drop(columns=[\"moved_after_2019\",\"industry\",\"location\"]), train[\"moved_after_2019\"]"
   ]
  },
  {
   "cell_type": "code",
   "execution_count": 54,
   "id": "7465f35b",
   "metadata": {
    "execution": {
     "iopub.execute_input": "2023-02-25T23:58:13.204537Z",
     "iopub.status.busy": "2023-02-25T23:58:13.204068Z",
     "iopub.status.idle": "2023-02-25T23:58:13.215498Z",
     "shell.execute_reply": "2023-02-25T23:58:13.214126Z"
    },
    "papermill": {
     "duration": 0.033547,
     "end_time": "2023-02-25T23:58:13.218598",
     "exception": false,
     "start_time": "2023-02-25T23:58:13.185051",
     "status": "completed"
    },
    "tags": []
   },
   "outputs": [],
   "source": [
    "test.drop([\"industry\",\"location\"],axis=1,inplace=True)\n",
    "test.drop([\"moved_after_2019\"],axis=1,inplace=True)"
   ]
  },
  {
   "cell_type": "code",
   "execution_count": 55,
   "id": "9e3f2c09",
   "metadata": {
    "execution": {
     "iopub.execute_input": "2023-02-25T23:58:13.255811Z",
     "iopub.status.busy": "2023-02-25T23:58:13.255340Z",
     "iopub.status.idle": "2023-02-25T23:58:25.794199Z",
     "shell.execute_reply": "2023-02-25T23:58:25.792952Z"
    },
    "papermill": {
     "duration": 12.561263,
     "end_time": "2023-02-25T23:58:25.797193",
     "exception": false,
     "start_time": "2023-02-25T23:58:13.235930",
     "status": "completed"
    },
    "tags": []
   },
   "outputs": [
    {
     "data": {
      "text/plain": [
       "'# Test setinde modelin performansını değerlendir\\ny_pred = catboost.predict(X_test)\\naccuracy = accuracy_score(Y_test, y_pred)\\nprint(f\"Accuracy: {accuracy:.2f}\")\\n'"
      ]
     },
     "execution_count": 55,
     "metadata": {},
     "output_type": "execute_result"
    }
   ],
   "source": [
    "from catboost import CatBoostClassifier\n",
    "from sklearn.metrics import accuracy_score\n",
    "from sklearn.model_selection import train_test_split\n",
    "\n",
    "\n",
    "catboost = CatBoostClassifier(iterations=1000, \n",
    "                               learning_rate=0.1,\n",
    "                               depth=6,\n",
    "                               loss_function='Logloss',\n",
    "                               verbose=False)\n",
    "\n",
    "\n",
    "catboost.fit(X, y)\n",
    "\n",
    "submission.loc[test.index, \"moved_after_2019\"] = catboost.predict(test)\n",
    "\n",
    "submission[\"moved_after_2019\"] = submission[\"moved_after_2019\"].astype(int)\n",
    "submission[\"moved_after_2019\"].value_counts()\n",
    "\n",
    "\"\"\"# Test setinde modelin performansını değerlendir\n",
    "y_pred = catboost.predict(X_test)\n",
    "accuracy = accuracy_score(Y_test, y_pred)\n",
    "print(f\"Accuracy: {accuracy:.2f}\")\n",
    "\"\"\""
   ]
  },
  {
   "cell_type": "code",
   "execution_count": 56,
   "id": "027100bb",
   "metadata": {
    "execution": {
     "iopub.execute_input": "2023-02-25T23:58:25.835474Z",
     "iopub.status.busy": "2023-02-25T23:58:25.835059Z",
     "iopub.status.idle": "2023-02-25T23:58:25.861813Z",
     "shell.execute_reply": "2023-02-25T23:58:25.860403Z"
    },
    "papermill": {
     "duration": 0.048867,
     "end_time": "2023-02-25T23:58:25.864840",
     "exception": false,
     "start_time": "2023-02-25T23:58:25.815973",
     "status": "completed"
    },
    "tags": []
   },
   "outputs": [],
   "source": [
    "submission.to_csv('submission.csv')"
   ]
  },
  {
   "cell_type": "code",
   "execution_count": null,
   "id": "c775a714",
   "metadata": {
    "execution": {
     "iopub.execute_input": "2023-02-25T23:58:25.902420Z",
     "iopub.status.busy": "2023-02-25T23:58:25.901201Z",
     "iopub.status.idle": "2023-02-25T23:58:25.908141Z",
     "shell.execute_reply": "2023-02-25T23:58:25.907292Z"
    },
    "papermill": {
     "duration": 0.028194,
     "end_time": "2023-02-25T23:58:25.910449",
     "exception": false,
     "start_time": "2023-02-25T23:58:25.882255",
     "status": "completed"
    },
    "tags": [],
    "is_executing": true
   },
   "outputs": [],
   "source": []
  },
  {
   "cell_type": "code",
   "execution_count": null,
   "id": "f5329103",
   "metadata": {
    "papermill": {
     "duration": 0.018365,
     "end_time": "2023-02-25T23:58:25.947236",
     "exception": false,
     "start_time": "2023-02-25T23:58:25.928871",
     "status": "completed"
    },
    "tags": []
   },
   "outputs": [],
   "source": []
  }
 ],
 "metadata": {
  "kernelspec": {
   "display_name": "Python 3",
   "language": "python",
   "name": "python3"
  },
  "language_info": {
   "codemirror_mode": {
    "name": "ipython",
    "version": 3
   },
   "file_extension": ".py",
   "mimetype": "text/x-python",
   "name": "python",
   "nbconvert_exporter": "python",
   "pygments_lexer": "ipython3",
   "version": "3.7.12"
  },
  "papermill": {
   "default_parameters": {},
   "duration": 133.745062,
   "end_time": "2023-02-25T23:58:26.888443",
   "environment_variables": {},
   "exception": null,
   "input_path": "__notebook__.ipynb",
   "output_path": "__notebook__.ipynb",
   "parameters": {},
   "start_time": "2023-02-25T23:56:13.143381",
   "version": "2.4.0"
  }
 },
 "nbformat": 4,
 "nbformat_minor": 5
}
